{
 "cells": [
  {
   "cell_type": "code",
   "execution_count": 1,
   "id": "e4f847c1",
   "metadata": {},
   "outputs": [
    {
     "name": "stdout",
     "output_type": "stream",
     "text": [
      "240.0\n"
     ]
    }
   ],
   "source": [
    "# Structure for an item which stores weight and\n",
    "# corresponding value of Item\n",
    "class Item:\n",
    "\tdef __init__(self, profit, weight):\n",
    "\t\tself.profit = profit\n",
    "\t\tself.weight = weight\n",
    "\n",
    "# Main greedy function to solve problem\n",
    "def fractionalKnapsack(W, arr):\n",
    "\n",
    "\t# Sorting Item on basis of ratio\n",
    "\tarr.sort(key=lambda x: (x.profit/x.weight), reverse=True) \n",
    "\n",
    "\t# Result(value in Knapsack)\n",
    "\tfinalvalue = 0.0\n",
    "\n",
    "\t# Looping through all Items\n",
    "\tfor item in arr:\n",
    "\n",
    "\t\t# If adding Item won't overflow, \n",
    "\t\t# add it completely\n",
    "\t\tif item.weight <= W:\n",
    "\t\t\tW -= item.weight\n",
    "\t\t\tfinalvalue += item.profit\n",
    "\n",
    "\t\t# If we can't add current Item, \n",
    "\t\t# add fractional part of it\n",
    "\t\telse:\n",
    "\t\t\tfinalvalue += item.profit * W / item.weight\n",
    "\t\t\tbreak\n",
    "\t\n",
    "\t# Returning final value\n",
    "\treturn finalvalue\n",
    "\n",
    "\n",
    "# Driver Code\n",
    "if __name__ == \"__main__\":\n",
    "\tW = 50\n",
    "\tarr = [Item(60, 10), Item(100, 20), Item(120, 30)]\n",
    "\n",
    "\t# Function call\n",
    "\tmax_val = fractionalKnapsack(W, arr)\n",
    "\tprint(max_val)\n"
   ]
  },
  {
   "cell_type": "code",
   "execution_count": null,
   "id": "0312048a",
   "metadata": {},
   "outputs": [],
   "source": []
  }
 ],
 "metadata": {
  "kernelspec": {
   "display_name": "Python 3 (ipykernel)",
   "language": "python",
   "name": "python3"
  },
  "language_info": {
   "codemirror_mode": {
    "name": "ipython",
    "version": 3
   },
   "file_extension": ".py",
   "mimetype": "text/x-python",
   "name": "python",
   "nbconvert_exporter": "python",
   "pygments_lexer": "ipython3",
   "version": "3.11.5"
  }
 },
 "nbformat": 4,
 "nbformat_minor": 5
}
